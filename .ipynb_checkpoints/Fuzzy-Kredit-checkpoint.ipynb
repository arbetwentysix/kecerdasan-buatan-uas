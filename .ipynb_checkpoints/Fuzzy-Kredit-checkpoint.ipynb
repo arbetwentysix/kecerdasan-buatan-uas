{
 "cells": [
  {
   "cell_type": "code",
   "execution_count": 1,
   "id": "617b7128-1a50-4a30-87f9-47a62a9d2959",
   "metadata": {},
   "outputs": [],
   "source": [
    "# Rule\n",
    "# IF pendapatan bulanan rendah, hutang tinggi dan riwayat kredit buruk THEN kelayakan kredit tidak layak\n",
    "# IF pendapatan bulanan rendah, hutang tinggi dan riwayat kredit baik THEN kelayakan kredit tidak layak\n",
    "# IF pendapatan bulanan rendah, hutang rendah dan riwayat kredit buruk THEN kelayakan kredit tidak layak\n",
    "# IF pendapatan bulanan rendah, hutang rendah dan riwayat kredit baik THEN kelayakan kredit layak\n",
    "# IF pendapatan bulanan tinggi, hutang tinggi dan riwayat kredit buruk THEN kelayakan kredit tidak layak\n",
    "# IF pendapatan bulanan tinggi, hutang tinggi dan riwayat kredit baik THEN kelayakan kredit layak\n",
    "# IF pendapatan bulanan tinggi, hutang rendah dan riwayat kredit buruk THEN kelayakan kredit tidak layak\n",
    "# IF pendapatan bulanan tinggi, hutang rendah dan riwayat kredit baik THEN kelayakan kredit layak"
   ]
  },
  {
   "cell_type": "code",
   "execution_count": 18,
   "id": "f3ef727e-07a9-4591-89a0-d3e11f52a3d5",
   "metadata": {},
   "outputs": [],
   "source": [
    "class BaseFuzzy():\n",
    "    def __init__(self):\n",
    "        self.max_value = 0\n",
    "        self.min_value = 0\n",
    "        \n",
    "    def turun(self, x):\n",
    "        return (self.max_value - x)/(self.max_value - self.min_value)\n",
    "        \n",
    "    def naik(self, x):\n",
    "        return (x - self.min_value)/(self.max_value - self.min_value)\n",
    "        \n",
    "    def rev_down(self, f):\n",
    "        return self.max_value - f * (self.max_value - self.min_value)\n",
    "        \n",
    "    def rev_up(self, f):\n",
    "        return f * (self.max_value - self.min_value) + self.min_value"
   ]
  },
  {
   "cell_type": "code",
   "execution_count": 19,
   "id": "dd81032d-a685-4d4c-be4b-91367347d64c",
   "metadata": {},
   "outputs": [],
   "source": [
    "class SistemKelayakanKredit:\n",
    "    def __init__(self):\n",
    "        self.pendapatan = BaseFuzzy()\n",
    "        self.hutang = BaseFuzzy()\n",
    "        self.riwayat = BaseFuzzy()\n",
    "\n",
    "        self.pendapatan.min_value = 0\n",
    "        self.pendapatan.max_value = 10000\n",
    "        \n",
    "        self.hutang.min_value = 0\n",
    "        self.hutang.max_value = 5000\n",
    "        \n",
    "        self.riwayat.min_value = 0\n",
    "        self.riwayat.max_value = 10\n",
    "    \n",
    "    def fuzzy_rules(self, pendapatan, hutang, riwayat):\n",
    "        pendapatan_rendah = self.pendapatan.turun(pendapatan)\n",
    "        pendapatan_tinggi = self.pendapatan.naik(pendapatan)\n",
    "        \n",
    "        hutang_rendah = self.hutang.turun(hutang)\n",
    "        hutang_tinggi = self.hutang.naik(hutang)\n",
    "        \n",
    "        riwayat_buruk = self.riwayat.turun(riwayat)\n",
    "        riwayat_baik = self.riwayat.naik(riwayat)\n",
    "\n",
    "        # Aturan fuzzy\n",
    "        tidak_layak = max(\n",
    "            min(pendapatan_rendah, hutang_tinggi, riwayat_buruk),  \n",
    "            min(pendapatan_rendah, hutang_tinggi, riwayat_baik), \n",
    "            min(pendapatan_rendah, hutang_rendah, riwayat_buruk),   \n",
    "            min(pendapatan_tinggi, hutang_tinggi, riwayat_buruk), \n",
    "            min(pendapatan_tinggi, hutang_rendah, riwayat_buruk)\n",
    "        )\n",
    "        \n",
    "        layak = max(\n",
    "            min(pendapatan_rendah, hutang_rendah, riwayat_baik),  \n",
    "            min(pendapatan_tinggi, hutang_tinggi, riwayat_baik), \n",
    "            min(pendapatan_tinggi, hutang_rendah, riwayat_baik)\n",
    "        )\n",
    "        \n",
    "        return {\"layak\": layak, \"tidak_layak\": tidak_layak}\n",
    "    \n",
    "    def cekFuzzy(self, layak):\n",
    "        if layak[\"layak\"] > layak[\"tidak_layak\"]:\n",
    "            return \"Layak\"\n",
    "        else:\n",
    "            return \"Tidak Layak\"\n",
    "    \n",
    "    def hasil(self, pendapatan, hutang, riwayat):\n",
    "        fuzzy_results = self.fuzzy_rules(pendapatan, hutang, riwayat)\n",
    "        return self.cekFuzzy(fuzzy_results)"
   ]
  },
  {
   "cell_type": "code",
   "execution_count": 20,
   "id": "c8d8e1bc-bd6d-4f91-a6d6-b3cc9df5b49f",
   "metadata": {},
   "outputs": [
    {
     "name": "stdout",
     "output_type": "stream",
     "text": [
      "Pendapatan: 3000000, Hutang: 400000, Riwayat Kredit: 3 -> Kelayakan Kredit: Tidak Layak\n",
      "Pendapatan: 3000000, Hutang: 1000000, Riwayat Kredit: 8 -> Kelayakan Kredit: Layak\n",
      "Pendapatan: 8000000, Hutang: 3000000, Riwayat Kredit: 9 -> Kelayakan Kredit: Layak\n",
      "Pendapatan: 9000000, Hutang: 1000000, Riwayat Kredit: 2 -> Kelayakan Kredit: Tidak Layak\n"
     ]
    }
   ],
   "source": [
    "# Contoh Penggunaan\n",
    "system = SistemKelayakanKredit()\n",
    "\n",
    "# Pengujian Kelayakan Dalam Beberapa Kasus\n",
    "pengujian = [\n",
    "    {\"pendapatan\": 3000000, \"hutang\": 400000, \"riwayat_score\": 3},  # Pendapatan rendah, hutang tinggi, riwayat buruk\n",
    "    {\"pendapatan\": 3000000, \"hutang\": 1000000, \"riwayat_score\": 8},  # Pendapatan rendah, hutang rendah, riwayat baik\n",
    "    {\"pendapatan\": 8000000, \"hutang\": 3000000, \"riwayat_score\": 9},  # Pendapatan tinggi, hutang tinggi, riwayat baik\n",
    "    {\"pendapatan\": 9000000, \"hutang\": 1000000, \"riwayat_score\": 2},  # Pendapatan tinggi, hutang rendah, riwayat buruk\n",
    "]\n",
    "\n",
    "for user in pengujian:\n",
    "    result = system.hasil(user[\"pendapatan\"], user[\"hutang\"], user[\"riwayat_score\"])\n",
    "    print(f\"Pendapatan: {user['pendapatan']}, Hutang: {user['hutang']}, Riwayat Kredit: {user['riwayat_score']} -> Kelayakan Kredit: {result}\")"
   ]
  },
  {
   "cell_type": "code",
   "execution_count": null,
   "id": "1a4de0dc-d815-4828-8934-23f508d1b11e",
   "metadata": {},
   "outputs": [],
   "source": []
  }
 ],
 "metadata": {
  "kernelspec": {
   "display_name": "Python 3 (ipykernel)",
   "language": "python",
   "name": "python3"
  },
  "language_info": {
   "codemirror_mode": {
    "name": "ipython",
    "version": 3
   },
   "file_extension": ".py",
   "mimetype": "text/x-python",
   "name": "python",
   "nbconvert_exporter": "python",
   "pygments_lexer": "ipython3",
   "version": "3.12.4"
  }
 },
 "nbformat": 4,
 "nbformat_minor": 5
}
